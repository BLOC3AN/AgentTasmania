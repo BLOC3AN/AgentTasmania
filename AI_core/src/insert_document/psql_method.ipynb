{
 "cells": [
  {
   "cell_type": "code",
   "execution_count": 15,
   "id": "7c4467a0",
   "metadata": {},
   "outputs": [],
   "source": [
    "import psycopg2\n",
    "\n",
    "def execute_query(query: str):\n",
    "    # Thông tin kết nối PostgreSQL\n",
    "    conn = psycopg2.connect(\n",
    "    host= \"127.0.0.1\",\n",
    "    user= \"btk0286\",\n",
    "    port=5432,\n",
    "    database= \"mydb\",\n",
    "    password= \"\"\n",
    "        )\n",
    "    \n",
    "    try:\n",
    "        cur = conn.cursor()\n",
    "        cur.execute(query)\n",
    "        \n",
    "        # Nếu là SELECT thì fetch kết quả\n",
    "        if query.strip().lower().startswith(\"select\"):\n",
    "            result = cur.fetchall()\n",
    "            for row in result:\n",
    "                print(row)\n",
    "        else:\n",
    "            # Nếu là INSERT/UPDATE/DELETE thì commit\n",
    "            conn.commit()\n",
    "            print(\"✅ Query executed successfully.\")\n",
    "        \n",
    "        cur.close()\n",
    "    except Exception as e:\n",
    "        print(\"❌ Error:\", e)\n",
    "    finally:\n",
    "        conn.close()\n"
   ]
  },
  {
   "cell_type": "code",
   "execution_count": 12,
   "id": "0828aeef",
   "metadata": {},
   "outputs": [],
   "source": [
    "create_table_metadata_query = \"\"\"\n",
    "    CREATE TABLE IF NOT EXISTS documents (\n",
    "        doc_id SERIAL PRIMARY KEY,\n",
    "        title TEXT,\n",
    "        user_id TEXT,\n",
    "        created_at TIMESTAMP DEFAULT CURRENT_TIMESTAMP\n",
    "    );\n",
    "\"\"\"\n",
    "\n",
    "create_table_content_query = \"\"\"\n",
    "    CREATE TABLE IF NOT EXISTS document_content (\n",
    "        chunk_id SERIAL PRIMARY KEY,\n",
    "        doc_id INTEGER REFERENCES documents(doc_id),\n",
    "        content TEXT,\n",
    "        page_number INTEGER\n",
    "    );\n",
    "\"\"\""
   ]
  },
  {
   "cell_type": "code",
   "execution_count": 14,
   "id": "8cadccca",
   "metadata": {},
   "outputs": [
    {
     "name": "stdout",
     "output_type": "stream",
     "text": [
      "✅ Query executed successfully.\n"
     ]
    }
   ],
   "source": [
    "execute_query(create_table_content_query)"
   ]
  },
  {
   "cell_type": "code",
   "execution_count": null,
   "id": "69b55aa7",
   "metadata": {},
   "outputs": [],
   "source": []
  }
 ],
 "metadata": {
  "kernelspec": {
   "display_name": "Python 3",
   "language": "python",
   "name": "python3"
  },
  "language_info": {
   "codemirror_mode": {
    "name": "ipython",
    "version": 3
   },
   "file_extension": ".py",
   "mimetype": "text/x-python",
   "name": "python",
   "nbconvert_exporter": "python",
   "pygments_lexer": "ipython3",
   "version": "3.9.6"
  }
 },
 "nbformat": 4,
 "nbformat_minor": 5
}
